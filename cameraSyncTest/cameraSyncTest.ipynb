{
 "cells": [
  {
   "cell_type": "markdown",
   "metadata": {},
   "source": [
    "# Importing Modules "
   ]
  },
  {
   "cell_type": "code",
   "execution_count": 64,
   "metadata": {},
   "outputs": [],
   "source": [
    "%reset -f"
   ]
  },
  {
   "cell_type": "code",
   "execution_count": 65,
   "metadata": {},
   "outputs": [],
   "source": [
    "import numpy as np\n",
    "import matplotlib.pyplot as plt\n",
    "from copy import deepcopy\n",
    "import os.path\n",
    "import os\n",
    "import pickle\n",
    "from scipy.ndimage.interpolation import shift\n",
    "import scipy.stats as stats\n",
    "\n",
    "from intanRead import IntanRaw_read_data\n",
    "\n",
    "from tkinter import Tk\n",
    "from tkinter.filedialog import askopenfilename"
   ]
  },
  {
   "cell_type": "markdown",
   "metadata": {},
   "source": [
    "## Getting the data file "
   ]
  },
  {
   "cell_type": "code",
   "execution_count": 66,
   "metadata": {},
   "outputs": [],
   "source": [
    "defaultDataDir = \"C:\\\\Users\\Student\\Desktop\\RHD2000interface_compiled_v1_5_2\"\n",
    "\n",
    "if not os.path.isdir(defaultDataDir):\n",
    "    defaultDataDir = \"C:\\\\\"\n",
    "    \n",
    "root = Tk()\n",
    "root.withdraw()\n",
    "\n",
    "dataFileAdd =  askopenfilename(initialdir = defaultDataDir,title = \"Select file\",\\\n",
    "                            filetypes = ((\"Intan raw files\",\"*.rhd\"),(\"all files\",\"*.*\")))\n",
    "\n",
    "dataFileName = os.path.basename(dataFileAdd)[:-4]\n",
    "dataFileBaseFolder = os.path.dirname(dataFileAdd)"
   ]
  },
  {
   "cell_type": "markdown",
   "metadata": {},
   "source": [
    "## Reading the data file"
   ]
  },
  {
   "cell_type": "code",
   "execution_count": 67,
   "metadata": {},
   "outputs": [
    {
     "name": "stdout",
     "output_type": "stream",
     "text": [
      "\n",
      "Reading Intan Technologies RHD2000 Data File, Version 1.5\n",
      "\n",
      "Found 0 amplifier channels.\n",
      "Found 0 auxiliary input channels.\n",
      "Found 0 supply voltage channels.\n",
      "Found 1 board ADC channel.\n",
      "Found 0 board digital input channels.\n",
      "Found 0 board digital output channels.\n",
      "Found 0 temperature sensors channels.\n",
      "\n",
      "File contains 190.656 seconds of data.  Amplifiers were sampled at 20.00 kS/s.\n",
      "\n",
      "Allocating memory for data...\n",
      "Reading data from file...\n",
      "10% done...\n",
      "20% done...\n",
      "30% done...\n",
      "40% done...\n",
      "50% done...\n",
      "60% done...\n",
      "70% done...\n",
      "80% done...\n",
      "90% done...\n",
      "Parsing data...\n",
      "No missing timestamps in data.\n",
      "Done!  Elapsed time: 2.6 seconds\n"
     ]
    }
   ],
   "source": [
    "readResult = IntanRaw_read_data.IntanRaw_read_data(dataFileAdd)"
   ]
  },
  {
   "cell_type": "code",
   "execution_count": 68,
   "metadata": {},
   "outputs": [],
   "source": [
    "cameraStrobe = deepcopy(readResult['board_adc_data'][0])\n",
    "\n",
    "Fs = readResult['frequency_parameters']['board_dig_in_sample_rate']\n",
    "\n",
    "cameraStrobe[cameraStrobe<2] = 0\n",
    "cameraStrobe[cameraStrobe>2] = 1"
   ]
  },
  {
   "cell_type": "code",
   "execution_count": 69,
   "metadata": {},
   "outputs": [
    {
     "data": {
      "text/plain": [
       "[<matplotlib.lines.Line2D at 0x1deaba2d748>]"
      ]
     },
     "execution_count": 69,
     "metadata": {},
     "output_type": "execute_result"
    },
    {
     "data": {
      "image/png": "[encoded data removed]",
      "text/plain": [
       "<Figure size 432x288 with 1 Axes>"
      ]
     },
     "metadata": {
      "needs_background": "light"
     },
     "output_type": "display_data"
    }
   ],
   "source": [
    "plt.plot(cameraStrobe)"
   ]
  },
  {
   "cell_type": "markdown",
   "metadata": {},
   "source": [
    "### falling and rising edges of the camera strobe"
   ]
  },
  {
   "cell_type": "code",
   "execution_count": 72,
   "metadata": {},
   "outputs": [
    {
     "name": "stdout",
     "output_type": "stream",
     "text": [
      "(5628,) (5627,)\n"
     ]
    }
   ],
   "source": [
    "upTransitionStrobe = np.where (np.diff(cameraStrobe)==1)[0]\n",
    "downTransitionStrobe = np.where ((np.diff(cameraStrobe)==-1))[0]\n",
    "\n",
    "print(upTransitionStrobe.shape,downTransitionStrobe.shape)"
   ]
  },
  {
   "cell_type": "code",
   "execution_count": 80,
   "metadata": {},
   "outputs": [
    {
     "data": {
      "text/plain": [
       "[<matplotlib.lines.Line2D at 0x1de80275c50>]"
      ]
     },
     "execution_count": 80,
     "metadata": {},
     "output_type": "execute_result"
    },
    {
     "data": {
      "image/png": "[encoded data removed]",
      "text/plain": [
       "<Figure size 432x288 with 1 Axes>"
      ]
     },
     "metadata": {
      "needs_background": "light"
     },
     "output_type": "display_data"
    }
   ],
   "source": [
    "upTransitToLook = 0\n",
    "windowToLook = 80 #ms\n",
    "windowToLookBack = 10 #ms\n",
    "\n",
    "plt.plot(np.arange(-windowToLookBack,windowToLook,1e3/Fs),cameraStrobe\\\n",
    "                 [int(upTransitionStrobe[upTransitToLook]-windowToLookBack*Fs/1e3):\\\n",
    "                       int(upTransitionStrobe[upTransitToLook]+windowToLook*Fs/1e3)])\n"
   ]
  },
  {
   "cell_type": "code",
   "execution_count": 81,
   "metadata": {},
   "outputs": [
    {
     "ename": "ValueError",
     "evalue": "operands could not be broadcast together with shapes (5628,) (5627,) ",
     "output_type": "error",
     "traceback": [
      "\u001b[1;31m---------------------------------------------------------------------------\u001b[0m",
      "\u001b[1;31mValueError\u001b[0m                                Traceback (most recent call last)",
      "\u001b[1;32m<ipython-input-81-8c33f2e22b6e>\u001b[0m in \u001b[0;36m<module>\u001b[1;34m()\u001b[0m\n\u001b[1;32m----> 1\u001b[1;33m \u001b[1;33m(\u001b[0m\u001b[0mupTransitionStrobe\u001b[0m \u001b[1;33m-\u001b[0m \u001b[0mdownTransitionStrobe\u001b[0m\u001b[1;33m)\u001b[0m\u001b[1;33m*\u001b[0m\u001b[1;36m1e3\u001b[0m\u001b[1;33m/\u001b[0m\u001b[0mFs\u001b[0m\u001b[1;33m\u001b[0m\u001b[0m\n\u001b[0m",
      "\u001b[1;31mValueError\u001b[0m: operands could not be broadcast together with shapes (5628,) (5627,) "
     ]
    }
   ],
   "source": [
    "(upTransitionStrobe - downTransitionStrobe)*1e3/Fs"
   ]
  },
  {
   "cell_type": "code",
   "execution_count": 48,
   "metadata": {},
   "outputs": [
    {
     "data": {
      "text/plain": [
       "array([54.4 , 33.6 , 33.45, ..., 33.3 , 33.35, 33.35])"
      ]
     },
     "execution_count": 48,
     "metadata": {},
     "output_type": "execute_result"
    }
   ],
   "source": [
    "np.diff(downTransitionStrobe)*1e3/Fs"
   ]
  }
 ],
 "metadata": {
  "kernelspec": {
   "display_name": "Python 3",
   "language": "python",
   "name": "python3"
  },
  "language_info": {
   "codemirror_mode": {
    "name": "ipython",
    "version": 3
   },
   "file_extension": ".py",
   "mimetype": "text/x-python",
   "name": "python",
   "nbconvert_exporter": "python",
   "pygments_lexer": "ipython3",
   "version": "3.7.0"
  }
 },
 "nbformat": 4,
 "nbformat_minor": 2
}
